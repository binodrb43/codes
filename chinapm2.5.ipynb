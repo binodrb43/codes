{
 "cells": [
  {
   "cell_type": "code",
   "execution_count": 127,
   "metadata": {},
   "outputs": [],
   "source": [
    "import pandas as pd\n",
    "import numpy as np\n",
    "import matplotlib.pyplot as plt"
   ]
  },
  {
   "cell_type": "code",
   "execution_count": 143,
   "metadata": {},
   "outputs": [],
   "source": [
    "beijing=pd.read_csv('FiveCitiesPMData/BeijingPM20100101_20151231.csv')\n",
    "chengdu=pd.read_csv('FiveCitiesPMData/ChengduPM20100101_20151231.csv')\n",
    "guanzhou=pd.read_csv('FiveCitiesPMData/GuangzhouPM20100101_20151231.csv')\n",
    "shanghai=pd.read_csv('FiveCitiesPMData/ShanghaiPM20100101_20151231.csv')\n",
    "shenyang=pd.read_csv('FiveCitiesPMData/ShenyangPM20100101_20151231.csv')"
   ]
  },
  {
   "cell_type": "code",
   "execution_count": 144,
   "metadata": {},
   "outputs": [],
   "source": [
    "#Droping the rows with nan values in pm2.5 concentration. Taking the average of pm2.5 over small town in a city. \n",
    "beijing=beijing.dropna(subset=['PM_Dongsi','PM_Dongsihuan','PM_Nongzhanguan'])\n",
    "beavg=beijing.copy()\n",
    "beavg['beijingavg']=beavg.loc[: ,'PM_Dongsi':'PM_Nongzhanguan' ].mean(axis=1)\n",
    "#Calculating daily average \n",
    "bedayavg=beavg.groupby(['year','month','day'])['beijingavg'].mean().reset_index()\n",
    "#Calculationg monthly average.\n",
    "bemonthavg=bedayavg.groupby(['year','month'])['beijingavg'].mean().reset_index()"
   ]
  },
  {
   "cell_type": "code",
   "execution_count": 145,
   "metadata": {},
   "outputs": [],
   "source": [
    "chengdu=chengdu.dropna(subset=['PM_Caotangsi','PM_Shahepu'])\n",
    "chavg=chengdu.copy()\n",
    "chavg['chengduavg']=chavg.loc[: ,'PM_Caotangsi':'PM_Shahepu' ].mean(axis=1)\n",
    "chdayavg=chavg.groupby(['year','month','day'])['chengduavg'].mean().reset_index()\n",
    "chmonthavg=chdayavg.groupby(['year','month'])['chengduavg'].mean().reset_index()"
   ]
  },
  {
   "cell_type": "code",
   "execution_count": 146,
   "metadata": {},
   "outputs": [],
   "source": [
    "guanzhou=guanzhou.dropna(subset=['PM_City Station','PM_5th Middle School'])\n",
    "guavg=guanzhou.copy()\n",
    "guavg['guanzhouavg']=guavg.loc[: ,'PM_City Station':'PM_5th Middle School'].mean(axis=1)\n",
    "gudayavg=guavg.groupby(['year','month','day'])['guanzhouavg'].mean().reset_index()\n",
    "gumonthavg=gudayavg.groupby(['year','month'])['guanzhouavg'].mean().reset_index()"
   ]
  },
  {
   "cell_type": "code",
   "execution_count": 147,
   "metadata": {},
   "outputs": [],
   "source": [
    "shanghai=shanghai.dropna(subset=['PM_Jingan','PM_US Post','PM_Xuhui'])\n",
    "shavg=shanghai.copy()\n",
    "shavg['shanghaiavg']=shavg.loc[: ,'PM_Jingan':'PM_Xuhui'].mean(axis=1)\n",
    "shdayavg=shavg.groupby(['year','month','day'])['shanghaiavg'].mean().reset_index()\n",
    "shmonthavg=shdayavg.groupby(['year','month'])['shanghaiavg'].mean().reset_index()"
   ]
  },
  {
   "cell_type": "code",
   "execution_count": 148,
   "metadata": {},
   "outputs": [],
   "source": [
    "shenyang=shenyang.dropna(subset=['PM_Taiyuanjie','PM_US Post','PM_Xiaoheyan'])\n",
    "sheavg=shenyang.copy()\n",
    "sheavg['shenyangavg']=sheavg.loc[: ,'PM_Taiyuanjie':'PM_Xiaoheyan'].mean(axis=1)\n",
    "shedayavg=sheavg.groupby(['year','month','day'])['shenyangavg'].mean().reset_index()\n",
    "shemonthavg=shedayavg.groupby(['year','month'])['shenyangavg'].mean().reset_index()"
   ]
  },
  {
   "cell_type": "code",
   "execution_count": 149,
   "metadata": {},
   "outputs": [],
   "source": [
    "#Number of days with pm2.5 above 35 for five cities of China.\n",
    "bedays35=bedayavg[bedayavg['beijingavg']>35].groupby(['year','month'])['beijingavg'].count().sum()\n",
    "Beijing=bedays35/bedayavg.shape[0]*100\n",
    "chdays35=chdayavg[chdayavg['chengduavg']>35].groupby(['year','month'])['chengduavg'].count().sum()\n",
    "Chengdu=chdays35/chdayavg.shape[0]*100\n",
    "gudays35=gudayavg[gudayavg['guanzhouavg']>35].groupby(['year','month'])['guanzhouavg'].count().sum()\n",
    "Guanzhou=gudays35/gudayavg.shape[0]*100\n",
    "shdays35=shdayavg[shdayavg['shanghaiavg']>35].groupby(['year','month'])['shanghaiavg'].count().sum()\n",
    "Shanghai=shdays35/shdayavg.shape[0]*100\n",
    "shedays35=shedayavg[shedayavg['shenyangavg']>35].groupby(['year','month'])['shenyangavg'].count().sum()\n",
    "Shenyang=shedays35/shedayavg.shape[0]*100"
   ]
  },
  {
   "cell_type": "code",
   "execution_count": 150,
   "metadata": {},
   "outputs": [
    {
     "data": {
      "text/html": [
       "<div>\n",
       "<style scoped>\n",
       "    .dataframe tbody tr th:only-of-type {\n",
       "        vertical-align: middle;\n",
       "    }\n",
       "\n",
       "    .dataframe tbody tr th {\n",
       "        vertical-align: top;\n",
       "    }\n",
       "\n",
       "    .dataframe thead th {\n",
       "        text-align: right;\n",
       "    }\n",
       "</style>\n",
       "<table border=\"1\" class=\"dataframe\">\n",
       "  <thead>\n",
       "    <tr style=\"text-align: right;\">\n",
       "      <th></th>\n",
       "      <th>days</th>\n",
       "      <th>days(pm2.5&gt;35)</th>\n",
       "      <th>% of days(pm2.5&gt;35)</th>\n",
       "    </tr>\n",
       "  </thead>\n",
       "  <tbody>\n",
       "    <tr>\n",
       "      <th>beijing</th>\n",
       "      <td>930</td>\n",
       "      <td>717</td>\n",
       "      <td>77.096774</td>\n",
       "    </tr>\n",
       "    <tr>\n",
       "      <th>chengdu</th>\n",
       "      <td>1075</td>\n",
       "      <td>873</td>\n",
       "      <td>81.209302</td>\n",
       "    </tr>\n",
       "    <tr>\n",
       "      <th>guanzhou</th>\n",
       "      <td>920</td>\n",
       "      <td>569</td>\n",
       "      <td>61.847826</td>\n",
       "    </tr>\n",
       "    <tr>\n",
       "      <th>shanghai</th>\n",
       "      <td>1076</td>\n",
       "      <td>732</td>\n",
       "      <td>68.029740</td>\n",
       "    </tr>\n",
       "    <tr>\n",
       "      <th>shenyang</th>\n",
       "      <td>927</td>\n",
       "      <td>725</td>\n",
       "      <td>78.209277</td>\n",
       "    </tr>\n",
       "  </tbody>\n",
       "</table>\n",
       "</div>"
      ],
      "text/plain": [
       "          days  days(pm2.5>35)  % of days(pm2.5>35)\n",
       "beijing    930             717            77.096774\n",
       "chengdu   1075             873            81.209302\n",
       "guanzhou   920             569            61.847826\n",
       "shanghai  1076             732            68.029740\n",
       "shenyang   927             725            78.209277"
      ]
     },
     "execution_count": 150,
     "metadata": {},
     "output_type": "execute_result"
    }
   ],
   "source": [
    "# Dataframe showing the number of days where pm2.5 concentration  is measured. And the number of days where the \n",
    "#concentration of the pm2.5 is more than 35. The last column shows the percentage of days when pm2.5 is greater than 35.\n",
    "data={'days':[bedayavg.shape[0],chdayavg.shape[0],gudayavg.shape[0],shdayavg.shape[0],shedayavg.shape[0]],\n",
    "                 'days(pm2.5>35)':[bedays35,chdays35,gudays35,shdays35,shedays35],\n",
    "                 '% of days(pm2.5>35)':[Beijing,Chengdu,Guanzhou,Shanghai,Shenyang]}\n",
    "df=pd.DataFrame(data,index = ['beijing','chengdu','guanzhou','shanghai','shenyang'])\n",
    "df"
   ]
  },
  {
   "cell_type": "code",
   "execution_count": 151,
   "metadata": {},
   "outputs": [],
   "source": [
    "#avgplot.groupby('year').plot(figsize=(20,10),x=\"month\", y=[\"beijingavg\", \"guanzhouavg\",'shanghaiavg','shenyangavg','chengduavg'], kind=\"bar\",ylabel='pm_2.5',title=\"year\")"
   ]
  },
  {
   "cell_type": "code",
   "execution_count": 152,
   "metadata": {},
   "outputs": [
    {
     "data": {
      "text/html": [
       "<div>\n",
       "<style scoped>\n",
       "    .dataframe tbody tr th:only-of-type {\n",
       "        vertical-align: middle;\n",
       "    }\n",
       "\n",
       "    .dataframe tbody tr th {\n",
       "        vertical-align: top;\n",
       "    }\n",
       "\n",
       "    .dataframe thead th {\n",
       "        text-align: right;\n",
       "    }\n",
       "</style>\n",
       "<table border=\"1\" class=\"dataframe\">\n",
       "  <thead>\n",
       "    <tr style=\"text-align: right;\">\n",
       "      <th></th>\n",
       "      <th>year</th>\n",
       "      <th>month</th>\n",
       "      <th>beijingavg</th>\n",
       "      <th>guanzhouavg</th>\n",
       "      <th>shanghaiavg</th>\n",
       "      <th>shenyangavg</th>\n",
       "      <th>chengduavg</th>\n",
       "    </tr>\n",
       "  </thead>\n",
       "  <tbody>\n",
       "    <tr>\n",
       "      <th>0</th>\n",
       "      <td>2013</td>\n",
       "      <td>4</td>\n",
       "      <td>61.799798</td>\n",
       "      <td>68.320707</td>\n",
       "      <td>63.527654</td>\n",
       "      <td>77.363468</td>\n",
       "      <td>100.375757</td>\n",
       "    </tr>\n",
       "    <tr>\n",
       "      <th>1</th>\n",
       "      <td>2013</td>\n",
       "      <td>5</td>\n",
       "      <td>90.099661</td>\n",
       "      <td>38.403923</td>\n",
       "      <td>57.646849</td>\n",
       "      <td>69.258014</td>\n",
       "      <td>71.182127</td>\n",
       "    </tr>\n",
       "    <tr>\n",
       "      <th>2</th>\n",
       "      <td>2013</td>\n",
       "      <td>6</td>\n",
       "      <td>110.466482</td>\n",
       "      <td>25.849786</td>\n",
       "      <td>52.598658</td>\n",
       "      <td>51.196603</td>\n",
       "      <td>53.283796</td>\n",
       "    </tr>\n",
       "    <tr>\n",
       "      <th>3</th>\n",
       "      <td>2013</td>\n",
       "      <td>7</td>\n",
       "      <td>77.407120</td>\n",
       "      <td>19.734499</td>\n",
       "      <td>42.215522</td>\n",
       "      <td>38.953302</td>\n",
       "      <td>45.604472</td>\n",
       "    </tr>\n",
       "    <tr>\n",
       "      <th>4</th>\n",
       "      <td>2013</td>\n",
       "      <td>8</td>\n",
       "      <td>67.678676</td>\n",
       "      <td>NaN</td>\n",
       "      <td>32.468351</td>\n",
       "      <td>28.871158</td>\n",
       "      <td>61.939260</td>\n",
       "    </tr>\n",
       "  </tbody>\n",
       "</table>\n",
       "</div>"
      ],
      "text/plain": [
       "   year  month  beijingavg  guanzhouavg  shanghaiavg  shenyangavg  chengduavg\n",
       "0  2013      4   61.799798    68.320707    63.527654    77.363468  100.375757\n",
       "1  2013      5   90.099661    38.403923    57.646849    69.258014   71.182127\n",
       "2  2013      6  110.466482    25.849786    52.598658    51.196603   53.283796\n",
       "3  2013      7   77.407120    19.734499    42.215522    38.953302   45.604472\n",
       "4  2013      8   67.678676          NaN    32.468351    28.871158   61.939260"
      ]
     },
     "execution_count": 152,
     "metadata": {},
     "output_type": "execute_result"
    }
   ],
   "source": [
    "#Merging the average monthly conentration of pm2.5 of different cities into one dataframe according to year and month.\n",
    "avgplot=pd.merge(pd.merge(pd.merge(pd.merge(bemonthavg,gumonthavg,how='left',on=['year','month']),shmonthavg,on=['year','month']),\n",
    "                 shemonthavg,on=['year','month']),chmonthavg,on=['year','month'])\n",
    "avgplot.head()"
   ]
  },
  {
   "cell_type": "code",
   "execution_count": 153,
   "metadata": {},
   "outputs": [
    {
     "data": {
      "image/png": "[encoded data removed]",
      "text/plain": [
       "<Figure size 1440x1440 with 3 Axes>"
      ]
     },
     "metadata": {
      "needs_background": "light"
     },
     "output_type": "display_data"
    }
   ],
   "source": [
    "#This plot shows the average pm2.5 concentration measured over a month in different cities of China for different years.\n",
    "#This shows the pm2.5 is lower during the summer season than winter. My guess will be the rain and wind during summer\n",
    "#might absorbs the particle responsible for pollution. And, the warm air rising might also circulate the air frequently.\n",
    "#And in most of asian countries people burn woods, fossil fuels to warm the house, these will increase the pollutants.\n",
    "#Beijing and Chengdu has the highest pm2.5 concentration compare to other cities.\n",
    "fig, axes = plt.subplots(3,1, figsize=(20,20))\n",
    "for (year, group), ax in zip(avgplot.groupby('year'), axes.flatten()):\n",
    "    group.plot(x='month', y=['beijingavg', \"guanzhouavg\",'shanghaiavg','shenyangavg','chengduavg'], \n",
    "               kind='bar', ax=ax, title=year,ylabel='PM_2.5')"
   ]
  },
  {
   "cell_type": "code",
   "execution_count": null,
   "metadata": {},
   "outputs": [],
   "source": []
  }
 ],
 "metadata": {
  "kernelspec": {
   "display_name": "Python 3",
   "language": "python",
   "name": "python3"
  },
  "language_info": {
   "codemirror_mode": {
    "name": "ipython",
    "version": 3
   },
   "file_extension": ".py",
   "mimetype": "text/x-python",
   "name": "python",
   "nbconvert_exporter": "python",
   "pygments_lexer": "ipython3",
   "version": "3.9.4"
  }
 },
 "nbformat": 4,
 "nbformat_minor": 4
}
